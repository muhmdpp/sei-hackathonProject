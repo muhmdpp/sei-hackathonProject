{
 "cells": [
  {
   "cell_type": "code",
   "execution_count": 4,
   "id": "bb1e8681",
   "metadata": {},
   "outputs": [],
   "source": [
    "import pandas as pd\n",
    "import matplotlib.pyplot as plt"
   ]
  },
  {
   "cell_type": "code",
   "execution_count": 18,
   "id": "b54d0e88",
   "metadata": {},
   "outputs": [],
   "source": [
    "df = pd.read_csv('sei-usd-max.csv')"
   ]
  },
  {
   "cell_type": "code",
   "execution_count": 19,
   "id": "2368e2b1",
   "metadata": {},
   "outputs": [
    {
     "data": {
      "text/html": [
       "<div>\n",
       "<style scoped>\n",
       "    .dataframe tbody tr th:only-of-type {\n",
       "        vertical-align: middle;\n",
       "    }\n",
       "\n",
       "    .dataframe tbody tr th {\n",
       "        vertical-align: top;\n",
       "    }\n",
       "\n",
       "    .dataframe thead th {\n",
       "        text-align: right;\n",
       "    }\n",
       "</style>\n",
       "<table border=\"1\" class=\"dataframe\">\n",
       "  <thead>\n",
       "    <tr style=\"text-align: right;\">\n",
       "      <th></th>\n",
       "      <th>snapped_at</th>\n",
       "      <th>price</th>\n",
       "      <th>market_cap</th>\n",
       "      <th>total_volume</th>\n",
       "    </tr>\n",
       "  </thead>\n",
       "  <tbody>\n",
       "    <tr>\n",
       "      <th>0</th>\n",
       "      <td>2023-08-15 00:00:00 UTC</td>\n",
       "      <td>0.175553</td>\n",
       "      <td>3.150883e+08</td>\n",
       "      <td>2.064060e+08</td>\n",
       "    </tr>\n",
       "    <tr>\n",
       "      <th>1</th>\n",
       "      <td>2023-08-16 00:00:00 UTC</td>\n",
       "      <td>0.175553</td>\n",
       "      <td>3.150883e+08</td>\n",
       "      <td>2.064060e+08</td>\n",
       "    </tr>\n",
       "    <tr>\n",
       "      <th>2</th>\n",
       "      <td>2023-08-17 00:00:00 UTC</td>\n",
       "      <td>0.212871</td>\n",
       "      <td>3.808960e+08</td>\n",
       "      <td>1.471351e+09</td>\n",
       "    </tr>\n",
       "    <tr>\n",
       "      <th>3</th>\n",
       "      <td>2023-08-18 00:00:00 UTC</td>\n",
       "      <td>0.173332</td>\n",
       "      <td>3.114263e+08</td>\n",
       "      <td>5.176820e+08</td>\n",
       "    </tr>\n",
       "    <tr>\n",
       "      <th>4</th>\n",
       "      <td>2023-08-19 00:00:00 UTC</td>\n",
       "      <td>0.168134</td>\n",
       "      <td>3.046965e+08</td>\n",
       "      <td>3.579209e+08</td>\n",
       "    </tr>\n",
       "  </tbody>\n",
       "</table>\n",
       "</div>"
      ],
      "text/plain": [
       "                snapped_at     price    market_cap  total_volume\n",
       "0  2023-08-15 00:00:00 UTC  0.175553  3.150883e+08  2.064060e+08\n",
       "1  2023-08-16 00:00:00 UTC  0.175553  3.150883e+08  2.064060e+08\n",
       "2  2023-08-17 00:00:00 UTC  0.212871  3.808960e+08  1.471351e+09\n",
       "3  2023-08-18 00:00:00 UTC  0.173332  3.114263e+08  5.176820e+08\n",
       "4  2023-08-19 00:00:00 UTC  0.168134  3.046965e+08  3.579209e+08"
      ]
     },
     "execution_count": 19,
     "metadata": {},
     "output_type": "execute_result"
    }
   ],
   "source": [
    "df.head()"
   ]
  },
  {
   "cell_type": "code",
   "execution_count": 9,
   "id": "d9df8ca3",
   "metadata": {},
   "outputs": [],
   "source": [
    "df.set_index('snapped_at', inplace=True)"
   ]
  },
  {
   "cell_type": "code",
   "execution_count": 20,
   "id": "507dad6d",
   "metadata": {},
   "outputs": [
    {
     "data": {
      "text/html": [
       "<div>\n",
       "<style scoped>\n",
       "    .dataframe tbody tr th:only-of-type {\n",
       "        vertical-align: middle;\n",
       "    }\n",
       "\n",
       "    .dataframe tbody tr th {\n",
       "        vertical-align: top;\n",
       "    }\n",
       "\n",
       "    .dataframe thead th {\n",
       "        text-align: right;\n",
       "    }\n",
       "</style>\n",
       "<table border=\"1\" class=\"dataframe\">\n",
       "  <thead>\n",
       "    <tr style=\"text-align: right;\">\n",
       "      <th></th>\n",
       "      <th>snapped_at</th>\n",
       "      <th>price</th>\n",
       "      <th>market_cap</th>\n",
       "      <th>total_volume</th>\n",
       "    </tr>\n",
       "  </thead>\n",
       "  <tbody>\n",
       "    <tr>\n",
       "      <th>0</th>\n",
       "      <td>2023-08-15 00:00:00 UTC</td>\n",
       "      <td>0.175553</td>\n",
       "      <td>3.150883e+08</td>\n",
       "      <td>2.064060e+08</td>\n",
       "    </tr>\n",
       "    <tr>\n",
       "      <th>1</th>\n",
       "      <td>2023-08-16 00:00:00 UTC</td>\n",
       "      <td>0.175553</td>\n",
       "      <td>3.150883e+08</td>\n",
       "      <td>2.064060e+08</td>\n",
       "    </tr>\n",
       "    <tr>\n",
       "      <th>2</th>\n",
       "      <td>2023-08-17 00:00:00 UTC</td>\n",
       "      <td>0.212871</td>\n",
       "      <td>3.808960e+08</td>\n",
       "      <td>1.471351e+09</td>\n",
       "    </tr>\n",
       "    <tr>\n",
       "      <th>3</th>\n",
       "      <td>2023-08-18 00:00:00 UTC</td>\n",
       "      <td>0.173332</td>\n",
       "      <td>3.114263e+08</td>\n",
       "      <td>5.176820e+08</td>\n",
       "    </tr>\n",
       "    <tr>\n",
       "      <th>4</th>\n",
       "      <td>2023-08-19 00:00:00 UTC</td>\n",
       "      <td>0.168134</td>\n",
       "      <td>3.046965e+08</td>\n",
       "      <td>3.579209e+08</td>\n",
       "    </tr>\n",
       "  </tbody>\n",
       "</table>\n",
       "</div>"
      ],
      "text/plain": [
       "                snapped_at     price    market_cap  total_volume\n",
       "0  2023-08-15 00:00:00 UTC  0.175553  3.150883e+08  2.064060e+08\n",
       "1  2023-08-16 00:00:00 UTC  0.175553  3.150883e+08  2.064060e+08\n",
       "2  2023-08-17 00:00:00 UTC  0.212871  3.808960e+08  1.471351e+09\n",
       "3  2023-08-18 00:00:00 UTC  0.173332  3.114263e+08  5.176820e+08\n",
       "4  2023-08-19 00:00:00 UTC  0.168134  3.046965e+08  3.579209e+08"
      ]
     },
     "execution_count": 20,
     "metadata": {},
     "output_type": "execute_result"
    }
   ],
   "source": [
    "df.head()"
   ]
  },
  {
   "cell_type": "code",
   "execution_count": 13,
   "id": "d3d368ad",
   "metadata": {},
   "outputs": [
    {
     "data": {
      "text/html": [
       "<div>\n",
       "<style scoped>\n",
       "    .dataframe tbody tr th:only-of-type {\n",
       "        vertical-align: middle;\n",
       "    }\n",
       "\n",
       "    .dataframe tbody tr th {\n",
       "        vertical-align: top;\n",
       "    }\n",
       "\n",
       "    .dataframe thead th {\n",
       "        text-align: right;\n",
       "    }\n",
       "</style>\n",
       "<table border=\"1\" class=\"dataframe\">\n",
       "  <thead>\n",
       "    <tr style=\"text-align: right;\">\n",
       "      <th></th>\n",
       "      <th>price</th>\n",
       "      <th>market_cap</th>\n",
       "      <th>total_volume</th>\n",
       "    </tr>\n",
       "  </thead>\n",
       "  <tbody>\n",
       "    <tr>\n",
       "      <th>count</th>\n",
       "      <td>612.000000</td>\n",
       "      <td>6.120000e+02</td>\n",
       "      <td>6.120000e+02</td>\n",
       "    </tr>\n",
       "    <tr>\n",
       "      <th>mean</th>\n",
       "      <td>0.401930</td>\n",
       "      <td>1.246572e+09</td>\n",
       "      <td>1.698432e+08</td>\n",
       "    </tr>\n",
       "    <tr>\n",
       "      <th>std</th>\n",
       "      <td>0.221862</td>\n",
       "      <td>6.627099e+08</td>\n",
       "      <td>1.833975e+08</td>\n",
       "    </tr>\n",
       "    <tr>\n",
       "      <th>min</th>\n",
       "      <td>0.096822</td>\n",
       "      <td>1.748440e+08</td>\n",
       "      <td>9.511146e+06</td>\n",
       "    </tr>\n",
       "    <tr>\n",
       "      <th>25%</th>\n",
       "      <td>0.227703</td>\n",
       "      <td>8.538876e+08</td>\n",
       "      <td>6.633587e+07</td>\n",
       "    </tr>\n",
       "    <tr>\n",
       "      <th>50%</th>\n",
       "      <td>0.363817</td>\n",
       "      <td>1.262986e+09</td>\n",
       "      <td>1.108336e+08</td>\n",
       "    </tr>\n",
       "    <tr>\n",
       "      <th>75%</th>\n",
       "      <td>0.540980</td>\n",
       "      <td>1.666990e+09</td>\n",
       "      <td>2.168032e+08</td>\n",
       "    </tr>\n",
       "    <tr>\n",
       "      <th>max</th>\n",
       "      <td>1.040692</td>\n",
       "      <td>2.923167e+09</td>\n",
       "      <td>1.652980e+09</td>\n",
       "    </tr>\n",
       "  </tbody>\n",
       "</table>\n",
       "</div>"
      ],
      "text/plain": [
       "            price    market_cap  total_volume\n",
       "count  612.000000  6.120000e+02  6.120000e+02\n",
       "mean     0.401930  1.246572e+09  1.698432e+08\n",
       "std      0.221862  6.627099e+08  1.833975e+08\n",
       "min      0.096822  1.748440e+08  9.511146e+06\n",
       "25%      0.227703  8.538876e+08  6.633587e+07\n",
       "50%      0.363817  1.262986e+09  1.108336e+08\n",
       "75%      0.540980  1.666990e+09  2.168032e+08\n",
       "max      1.040692  2.923167e+09  1.652980e+09"
      ]
     },
     "execution_count": 13,
     "metadata": {},
     "output_type": "execute_result"
    }
   ],
   "source": [
    "df.describe()"
   ]
  },
  {
   "cell_type": "code",
   "execution_count": 14,
   "id": "5bb94848",
   "metadata": {},
   "outputs": [
    {
     "ename": "AttributeError",
     "evalue": "'DataFrame' object has no attribute 'hea'",
     "output_type": "error",
     "traceback": [
      "\u001b[1;31m---------------------------------------------------------------------------\u001b[0m",
      "\u001b[1;31mAttributeError\u001b[0m                            Traceback (most recent call last)",
      "\u001b[1;32m~\\AppData\\Local\\Temp\\ipykernel_7740\\2920368422.py\u001b[0m in \u001b[0;36m?\u001b[1;34m()\u001b[0m\n\u001b[1;32m----> 1\u001b[1;33m \u001b[0mdf\u001b[0m\u001b[1;33m.\u001b[0m\u001b[0mhea\u001b[0m\u001b[1;33m(\u001b[0m\u001b[0md\u001b[0m\u001b[1;33m)\u001b[0m\u001b[1;33m\u001b[0m\u001b[1;33m\u001b[0m\u001b[0m\n\u001b[0m",
      "\u001b[1;32m~\\anaconda3\\Lib\\site-packages\\pandas\\core\\generic.py\u001b[0m in \u001b[0;36m?\u001b[1;34m(self, name)\u001b[0m\n\u001b[0;32m   5985\u001b[0m             \u001b[1;32mand\u001b[0m \u001b[0mname\u001b[0m \u001b[1;32mnot\u001b[0m \u001b[1;32min\u001b[0m \u001b[0mself\u001b[0m\u001b[1;33m.\u001b[0m\u001b[0m_accessors\u001b[0m\u001b[1;33m\u001b[0m\u001b[1;33m\u001b[0m\u001b[0m\n\u001b[0;32m   5986\u001b[0m             \u001b[1;32mand\u001b[0m \u001b[0mself\u001b[0m\u001b[1;33m.\u001b[0m\u001b[0m_info_axis\u001b[0m\u001b[1;33m.\u001b[0m\u001b[0m_can_hold_identifiers_and_holds_name\u001b[0m\u001b[1;33m(\u001b[0m\u001b[0mname\u001b[0m\u001b[1;33m)\u001b[0m\u001b[1;33m\u001b[0m\u001b[1;33m\u001b[0m\u001b[0m\n\u001b[0;32m   5987\u001b[0m         ):\n\u001b[0;32m   5988\u001b[0m             \u001b[1;32mreturn\u001b[0m \u001b[0mself\u001b[0m\u001b[1;33m[\u001b[0m\u001b[0mname\u001b[0m\u001b[1;33m]\u001b[0m\u001b[1;33m\u001b[0m\u001b[1;33m\u001b[0m\u001b[0m\n\u001b[1;32m-> 5989\u001b[1;33m         \u001b[1;32mreturn\u001b[0m \u001b[0mobject\u001b[0m\u001b[1;33m.\u001b[0m\u001b[0m__getattribute__\u001b[0m\u001b[1;33m(\u001b[0m\u001b[0mself\u001b[0m\u001b[1;33m,\u001b[0m \u001b[0mname\u001b[0m\u001b[1;33m)\u001b[0m\u001b[1;33m\u001b[0m\u001b[1;33m\u001b[0m\u001b[0m\n\u001b[0m",
      "\u001b[1;31mAttributeError\u001b[0m: 'DataFrame' object has no attribute 'hea'"
     ]
    }
   ],
   "source": [
    "df.hea(d)"
   ]
  },
  {
   "cell_type": "code",
   "execution_count": 15,
   "id": "299c5f4e",
   "metadata": {},
   "outputs": [
    {
     "data": {
      "text/html": [
       "<div>\n",
       "<style scoped>\n",
       "    .dataframe tbody tr th:only-of-type {\n",
       "        vertical-align: middle;\n",
       "    }\n",
       "\n",
       "    .dataframe tbody tr th {\n",
       "        vertical-align: top;\n",
       "    }\n",
       "\n",
       "    .dataframe thead th {\n",
       "        text-align: right;\n",
       "    }\n",
       "</style>\n",
       "<table border=\"1\" class=\"dataframe\">\n",
       "  <thead>\n",
       "    <tr style=\"text-align: right;\">\n",
       "      <th></th>\n",
       "      <th>price</th>\n",
       "      <th>market_cap</th>\n",
       "      <th>total_volume</th>\n",
       "    </tr>\n",
       "    <tr>\n",
       "      <th>snapped_at</th>\n",
       "      <th></th>\n",
       "      <th></th>\n",
       "      <th></th>\n",
       "    </tr>\n",
       "  </thead>\n",
       "  <tbody>\n",
       "    <tr>\n",
       "      <th>2023-08-15 00:00:00 UTC</th>\n",
       "      <td>0.175553</td>\n",
       "      <td>3.150883e+08</td>\n",
       "      <td>2.064060e+08</td>\n",
       "    </tr>\n",
       "    <tr>\n",
       "      <th>2023-08-16 00:00:00 UTC</th>\n",
       "      <td>0.175553</td>\n",
       "      <td>3.150883e+08</td>\n",
       "      <td>2.064060e+08</td>\n",
       "    </tr>\n",
       "    <tr>\n",
       "      <th>2023-08-17 00:00:00 UTC</th>\n",
       "      <td>0.212871</td>\n",
       "      <td>3.808960e+08</td>\n",
       "      <td>1.471351e+09</td>\n",
       "    </tr>\n",
       "    <tr>\n",
       "      <th>2023-08-18 00:00:00 UTC</th>\n",
       "      <td>0.173332</td>\n",
       "      <td>3.114263e+08</td>\n",
       "      <td>5.176820e+08</td>\n",
       "    </tr>\n",
       "    <tr>\n",
       "      <th>2023-08-19 00:00:00 UTC</th>\n",
       "      <td>0.168134</td>\n",
       "      <td>3.046965e+08</td>\n",
       "      <td>3.579209e+08</td>\n",
       "    </tr>\n",
       "  </tbody>\n",
       "</table>\n",
       "</div>"
      ],
      "text/plain": [
       "                            price    market_cap  total_volume\n",
       "snapped_at                                                   \n",
       "2023-08-15 00:00:00 UTC  0.175553  3.150883e+08  2.064060e+08\n",
       "2023-08-16 00:00:00 UTC  0.175553  3.150883e+08  2.064060e+08\n",
       "2023-08-17 00:00:00 UTC  0.212871  3.808960e+08  1.471351e+09\n",
       "2023-08-18 00:00:00 UTC  0.173332  3.114263e+08  5.176820e+08\n",
       "2023-08-19 00:00:00 UTC  0.168134  3.046965e+08  3.579209e+08"
      ]
     },
     "execution_count": 15,
     "metadata": {},
     "output_type": "execute_result"
    }
   ],
   "source": [
    "df.head()"
   ]
  },
  {
   "cell_type": "code",
   "execution_count": 21,
   "id": "4eb87dbb",
   "metadata": {},
   "outputs": [],
   "source": [
    "df = df.rename(columns={\n",
    "    'snapped_at': 'Date',\n",
    "    'price': 'Close',\n",
    "    'market_cap': 'MarketCap',\n",
    "    'total_volume': 'Volume'\n",
    "})"
   ]
  },
  {
   "cell_type": "code",
   "execution_count": 22,
   "id": "0f372d09",
   "metadata": {},
   "outputs": [
    {
     "data": {
      "text/html": [
       "<div>\n",
       "<style scoped>\n",
       "    .dataframe tbody tr th:only-of-type {\n",
       "        vertical-align: middle;\n",
       "    }\n",
       "\n",
       "    .dataframe tbody tr th {\n",
       "        vertical-align: top;\n",
       "    }\n",
       "\n",
       "    .dataframe thead th {\n",
       "        text-align: right;\n",
       "    }\n",
       "</style>\n",
       "<table border=\"1\" class=\"dataframe\">\n",
       "  <thead>\n",
       "    <tr style=\"text-align: right;\">\n",
       "      <th></th>\n",
       "      <th>Date</th>\n",
       "      <th>Close</th>\n",
       "      <th>MarketCap</th>\n",
       "      <th>Volume</th>\n",
       "    </tr>\n",
       "  </thead>\n",
       "  <tbody>\n",
       "    <tr>\n",
       "      <th>0</th>\n",
       "      <td>2023-08-15 00:00:00 UTC</td>\n",
       "      <td>0.175553</td>\n",
       "      <td>3.150883e+08</td>\n",
       "      <td>2.064060e+08</td>\n",
       "    </tr>\n",
       "    <tr>\n",
       "      <th>1</th>\n",
       "      <td>2023-08-16 00:00:00 UTC</td>\n",
       "      <td>0.175553</td>\n",
       "      <td>3.150883e+08</td>\n",
       "      <td>2.064060e+08</td>\n",
       "    </tr>\n",
       "    <tr>\n",
       "      <th>2</th>\n",
       "      <td>2023-08-17 00:00:00 UTC</td>\n",
       "      <td>0.212871</td>\n",
       "      <td>3.808960e+08</td>\n",
       "      <td>1.471351e+09</td>\n",
       "    </tr>\n",
       "    <tr>\n",
       "      <th>3</th>\n",
       "      <td>2023-08-18 00:00:00 UTC</td>\n",
       "      <td>0.173332</td>\n",
       "      <td>3.114263e+08</td>\n",
       "      <td>5.176820e+08</td>\n",
       "    </tr>\n",
       "    <tr>\n",
       "      <th>4</th>\n",
       "      <td>2023-08-19 00:00:00 UTC</td>\n",
       "      <td>0.168134</td>\n",
       "      <td>3.046965e+08</td>\n",
       "      <td>3.579209e+08</td>\n",
       "    </tr>\n",
       "  </tbody>\n",
       "</table>\n",
       "</div>"
      ],
      "text/plain": [
       "                      Date     Close     MarketCap        Volume\n",
       "0  2023-08-15 00:00:00 UTC  0.175553  3.150883e+08  2.064060e+08\n",
       "1  2023-08-16 00:00:00 UTC  0.175553  3.150883e+08  2.064060e+08\n",
       "2  2023-08-17 00:00:00 UTC  0.212871  3.808960e+08  1.471351e+09\n",
       "3  2023-08-18 00:00:00 UTC  0.173332  3.114263e+08  5.176820e+08\n",
       "4  2023-08-19 00:00:00 UTC  0.168134  3.046965e+08  3.579209e+08"
      ]
     },
     "execution_count": 22,
     "metadata": {},
     "output_type": "execute_result"
    }
   ],
   "source": [
    "df.head()"
   ]
  },
  {
   "cell_type": "code",
   "execution_count": 23,
   "id": "5ad57518",
   "metadata": {},
   "outputs": [],
   "source": [
    "df['Date'] = pd.to_datetime(df['Date'])"
   ]
  },
  {
   "cell_type": "code",
   "execution_count": 24,
   "id": "ce46026f",
   "metadata": {},
   "outputs": [
    {
     "data": {
      "text/html": [
       "<div>\n",
       "<style scoped>\n",
       "    .dataframe tbody tr th:only-of-type {\n",
       "        vertical-align: middle;\n",
       "    }\n",
       "\n",
       "    .dataframe tbody tr th {\n",
       "        vertical-align: top;\n",
       "    }\n",
       "\n",
       "    .dataframe thead th {\n",
       "        text-align: right;\n",
       "    }\n",
       "</style>\n",
       "<table border=\"1\" class=\"dataframe\">\n",
       "  <thead>\n",
       "    <tr style=\"text-align: right;\">\n",
       "      <th></th>\n",
       "      <th>Date</th>\n",
       "      <th>Close</th>\n",
       "      <th>MarketCap</th>\n",
       "      <th>Volume</th>\n",
       "    </tr>\n",
       "  </thead>\n",
       "  <tbody>\n",
       "    <tr>\n",
       "      <th>0</th>\n",
       "      <td>2023-08-15 00:00:00+00:00</td>\n",
       "      <td>0.175553</td>\n",
       "      <td>3.150883e+08</td>\n",
       "      <td>2.064060e+08</td>\n",
       "    </tr>\n",
       "    <tr>\n",
       "      <th>1</th>\n",
       "      <td>2023-08-16 00:00:00+00:00</td>\n",
       "      <td>0.175553</td>\n",
       "      <td>3.150883e+08</td>\n",
       "      <td>2.064060e+08</td>\n",
       "    </tr>\n",
       "    <tr>\n",
       "      <th>2</th>\n",
       "      <td>2023-08-17 00:00:00+00:00</td>\n",
       "      <td>0.212871</td>\n",
       "      <td>3.808960e+08</td>\n",
       "      <td>1.471351e+09</td>\n",
       "    </tr>\n",
       "    <tr>\n",
       "      <th>3</th>\n",
       "      <td>2023-08-18 00:00:00+00:00</td>\n",
       "      <td>0.173332</td>\n",
       "      <td>3.114263e+08</td>\n",
       "      <td>5.176820e+08</td>\n",
       "    </tr>\n",
       "    <tr>\n",
       "      <th>4</th>\n",
       "      <td>2023-08-19 00:00:00+00:00</td>\n",
       "      <td>0.168134</td>\n",
       "      <td>3.046965e+08</td>\n",
       "      <td>3.579209e+08</td>\n",
       "    </tr>\n",
       "  </tbody>\n",
       "</table>\n",
       "</div>"
      ],
      "text/plain": [
       "                       Date     Close     MarketCap        Volume\n",
       "0 2023-08-15 00:00:00+00:00  0.175553  3.150883e+08  2.064060e+08\n",
       "1 2023-08-16 00:00:00+00:00  0.175553  3.150883e+08  2.064060e+08\n",
       "2 2023-08-17 00:00:00+00:00  0.212871  3.808960e+08  1.471351e+09\n",
       "3 2023-08-18 00:00:00+00:00  0.173332  3.114263e+08  5.176820e+08\n",
       "4 2023-08-19 00:00:00+00:00  0.168134  3.046965e+08  3.579209e+08"
      ]
     },
     "execution_count": 24,
     "metadata": {},
     "output_type": "execute_result"
    }
   ],
   "source": [
    "df.head()"
   ]
  },
  {
   "cell_type": "code",
   "execution_count": 25,
   "id": "f60868a1",
   "metadata": {},
   "outputs": [],
   "source": [
    "import numpy as np"
   ]
  },
  {
   "cell_type": "code",
   "execution_count": 26,
   "id": "711d9f86",
   "metadata": {},
   "outputs": [],
   "source": [
    "mean_price = df['Close'].mean()\n",
    "std_price = df['Close'].std()"
   ]
  },
  {
   "cell_type": "code",
   "execution_count": 27,
   "id": "8719eb4a",
   "metadata": {},
   "outputs": [],
   "source": [
    "df['Z_score'] = (df['Close'] - mean_price) / std_price\n"
   ]
  },
  {
   "cell_type": "code",
   "execution_count": 28,
   "id": "49448773",
   "metadata": {},
   "outputs": [],
   "source": [
    "threshold = 2  # typically 2 or 3"
   ]
  },
  {
   "cell_type": "code",
   "execution_count": 29,
   "id": "c3734167",
   "metadata": {},
   "outputs": [],
   "source": [
    "df['Anomaly'] = df['Z_score'].apply(lambda x: 'Yes' if abs(x) > threshold else 'No')"
   ]
  },
  {
   "cell_type": "code",
   "execution_count": 30,
   "id": "80b9810a",
   "metadata": {},
   "outputs": [
    {
     "data": {
      "text/html": [
       "<div>\n",
       "<style scoped>\n",
       "    .dataframe tbody tr th:only-of-type {\n",
       "        vertical-align: middle;\n",
       "    }\n",
       "\n",
       "    .dataframe tbody tr th {\n",
       "        vertical-align: top;\n",
       "    }\n",
       "\n",
       "    .dataframe thead th {\n",
       "        text-align: right;\n",
       "    }\n",
       "</style>\n",
       "<table border=\"1\" class=\"dataframe\">\n",
       "  <thead>\n",
       "    <tr style=\"text-align: right;\">\n",
       "      <th></th>\n",
       "      <th>Date</th>\n",
       "      <th>Close</th>\n",
       "      <th>MarketCap</th>\n",
       "      <th>Volume</th>\n",
       "      <th>Z_score</th>\n",
       "      <th>Anomaly</th>\n",
       "    </tr>\n",
       "  </thead>\n",
       "  <tbody>\n",
       "    <tr>\n",
       "      <th>0</th>\n",
       "      <td>2023-08-15 00:00:00+00:00</td>\n",
       "      <td>0.175553</td>\n",
       "      <td>3.150883e+08</td>\n",
       "      <td>2.064060e+08</td>\n",
       "      <td>-1.020355</td>\n",
       "      <td>No</td>\n",
       "    </tr>\n",
       "    <tr>\n",
       "      <th>1</th>\n",
       "      <td>2023-08-16 00:00:00+00:00</td>\n",
       "      <td>0.175553</td>\n",
       "      <td>3.150883e+08</td>\n",
       "      <td>2.064060e+08</td>\n",
       "      <td>-1.020355</td>\n",
       "      <td>No</td>\n",
       "    </tr>\n",
       "    <tr>\n",
       "      <th>2</th>\n",
       "      <td>2023-08-17 00:00:00+00:00</td>\n",
       "      <td>0.212871</td>\n",
       "      <td>3.808960e+08</td>\n",
       "      <td>1.471351e+09</td>\n",
       "      <td>-0.852147</td>\n",
       "      <td>No</td>\n",
       "    </tr>\n",
       "    <tr>\n",
       "      <th>3</th>\n",
       "      <td>2023-08-18 00:00:00+00:00</td>\n",
       "      <td>0.173332</td>\n",
       "      <td>3.114263e+08</td>\n",
       "      <td>5.176820e+08</td>\n",
       "      <td>-1.030364</td>\n",
       "      <td>No</td>\n",
       "    </tr>\n",
       "    <tr>\n",
       "      <th>4</th>\n",
       "      <td>2023-08-19 00:00:00+00:00</td>\n",
       "      <td>0.168134</td>\n",
       "      <td>3.046965e+08</td>\n",
       "      <td>3.579209e+08</td>\n",
       "      <td>-1.053792</td>\n",
       "      <td>No</td>\n",
       "    </tr>\n",
       "  </tbody>\n",
       "</table>\n",
       "</div>"
      ],
      "text/plain": [
       "                       Date     Close     MarketCap        Volume   Z_score  \\\n",
       "0 2023-08-15 00:00:00+00:00  0.175553  3.150883e+08  2.064060e+08 -1.020355   \n",
       "1 2023-08-16 00:00:00+00:00  0.175553  3.150883e+08  2.064060e+08 -1.020355   \n",
       "2 2023-08-17 00:00:00+00:00  0.212871  3.808960e+08  1.471351e+09 -0.852147   \n",
       "3 2023-08-18 00:00:00+00:00  0.173332  3.114263e+08  5.176820e+08 -1.030364   \n",
       "4 2023-08-19 00:00:00+00:00  0.168134  3.046965e+08  3.579209e+08 -1.053792   \n",
       "\n",
       "  Anomaly  \n",
       "0      No  \n",
       "1      No  \n",
       "2      No  \n",
       "3      No  \n",
       "4      No  "
      ]
     },
     "execution_count": 30,
     "metadata": {},
     "output_type": "execute_result"
    }
   ],
   "source": [
    "df.head()"
   ]
  },
  {
   "cell_type": "code",
   "execution_count": 31,
   "id": "d92c8cb7",
   "metadata": {},
   "outputs": [
    {
     "data": {
      "image/png": "[encoded data removed]",
      "text/plain": [
       "<Figure size 1400x600 with 1 Axes>"
      ]
     },
     "metadata": {},
     "output_type": "display_data"
    }
   ],
   "source": [
    "plt.figure(figsize=(14,6))\n",
    "plt.plot(df['Date'], df['Close'], label='SEI Price')\n",
    "plt.scatter(df[df['Anomaly']=='Yes']['Date'], df[df['Anomaly']=='Yes']['Close'], color='red', label='Anomalies')\n",
    "plt.title(\"SEI Price with Anomalies\")\n",
    "plt.xlabel(\"Date\")\n",
    "plt.ylabel(\"Price (USD)\")\n",
    "plt.legend()\n",
    "plt.show()"
   ]
  },
  {
   "cell_type": "code",
   "execution_count": null,
   "id": "92028c3b",
   "metadata": {},
   "outputs": [],
   "source": []
  }
 ],
 "metadata": {
  "kernelspec": {
   "display_name": "Python 3 (ipykernel)",
   "language": "python",
   "name": "python3"
  },
  "language_info": {
   "codemirror_mode": {
    "name": "ipython",
    "version": 3
   },
   "file_extension": ".py",
   "mimetype": "text/x-python",
   "name": "python",
   "nbconvert_exporter": "python",
   "pygments_lexer": "ipython3",
   "version": "3.11.5"
  }
 },
 "nbformat": 4,
 "nbformat_minor": 5
}
